{
 "cells": [
  {
   "cell_type": "code",
   "execution_count": 3,
   "source": [
    "#Amostragem"
   ],
   "outputs": [],
   "metadata": {}
  },
  {
   "cell_type": "code",
   "execution_count": 3,
   "source": [
    "## Carregamento da base de dados\n"
   ],
   "outputs": [],
   "metadata": {}
  },
  {
   "cell_type": "code",
   "execution_count": 21,
   "source": [
    "import pandas as pd\n",
    "import random\n",
    "import numpy as np"
   ],
   "outputs": [],
   "metadata": {}
  },
  {
   "cell_type": "code",
   "execution_count": 3,
   "source": [
    "dataset = pd.read_csv('bases_de_dados/census.csv')"
   ],
   "outputs": [],
   "metadata": {}
  },
  {
   "cell_type": "code",
   "execution_count": 4,
   "source": [
    "dataset.shape"
   ],
   "outputs": [
    {
     "output_type": "execute_result",
     "data": {
      "text/plain": [
       "(32561, 15)"
      ]
     },
     "metadata": {},
     "execution_count": 4
    }
   ],
   "metadata": {}
  },
  {
   "cell_type": "code",
   "execution_count": 5,
   "source": [
    "dataset.head()"
   ],
   "outputs": [
    {
     "output_type": "execute_result",
     "data": {
      "text/html": [
       "<div>\n",
       "<style scoped>\n",
       "    .dataframe tbody tr th:only-of-type {\n",
       "        vertical-align: middle;\n",
       "    }\n",
       "\n",
       "    .dataframe tbody tr th {\n",
       "        vertical-align: top;\n",
       "    }\n",
       "\n",
       "    .dataframe thead th {\n",
       "        text-align: right;\n",
       "    }\n",
       "</style>\n",
       "<table border=\"1\" class=\"dataframe\">\n",
       "  <thead>\n",
       "    <tr style=\"text-align: right;\">\n",
       "      <th></th>\n",
       "      <th>age</th>\n",
       "      <th>workclass</th>\n",
       "      <th>final-weight</th>\n",
       "      <th>education</th>\n",
       "      <th>education-num</th>\n",
       "      <th>marital-status</th>\n",
       "      <th>occupation</th>\n",
       "      <th>relationship</th>\n",
       "      <th>race</th>\n",
       "      <th>sex</th>\n",
       "      <th>capital-gain</th>\n",
       "      <th>capital-loos</th>\n",
       "      <th>hour-per-week</th>\n",
       "      <th>native-country</th>\n",
       "      <th>income</th>\n",
       "    </tr>\n",
       "  </thead>\n",
       "  <tbody>\n",
       "    <tr>\n",
       "      <th>0</th>\n",
       "      <td>39</td>\n",
       "      <td>State-gov</td>\n",
       "      <td>77516</td>\n",
       "      <td>Bachelors</td>\n",
       "      <td>13</td>\n",
       "      <td>Never-married</td>\n",
       "      <td>Adm-clerical</td>\n",
       "      <td>Not-in-family</td>\n",
       "      <td>White</td>\n",
       "      <td>Male</td>\n",
       "      <td>2174</td>\n",
       "      <td>0</td>\n",
       "      <td>40</td>\n",
       "      <td>United-States</td>\n",
       "      <td>&lt;=50K</td>\n",
       "    </tr>\n",
       "    <tr>\n",
       "      <th>1</th>\n",
       "      <td>50</td>\n",
       "      <td>Self-emp-not-inc</td>\n",
       "      <td>83311</td>\n",
       "      <td>Bachelors</td>\n",
       "      <td>13</td>\n",
       "      <td>Married-civ-spouse</td>\n",
       "      <td>Exec-managerial</td>\n",
       "      <td>Husband</td>\n",
       "      <td>White</td>\n",
       "      <td>Male</td>\n",
       "      <td>0</td>\n",
       "      <td>0</td>\n",
       "      <td>13</td>\n",
       "      <td>United-States</td>\n",
       "      <td>&lt;=50K</td>\n",
       "    </tr>\n",
       "    <tr>\n",
       "      <th>2</th>\n",
       "      <td>38</td>\n",
       "      <td>Private</td>\n",
       "      <td>215646</td>\n",
       "      <td>HS-grad</td>\n",
       "      <td>9</td>\n",
       "      <td>Divorced</td>\n",
       "      <td>Handlers-cleaners</td>\n",
       "      <td>Not-in-family</td>\n",
       "      <td>White</td>\n",
       "      <td>Male</td>\n",
       "      <td>0</td>\n",
       "      <td>0</td>\n",
       "      <td>40</td>\n",
       "      <td>United-States</td>\n",
       "      <td>&lt;=50K</td>\n",
       "    </tr>\n",
       "    <tr>\n",
       "      <th>3</th>\n",
       "      <td>53</td>\n",
       "      <td>Private</td>\n",
       "      <td>234721</td>\n",
       "      <td>11th</td>\n",
       "      <td>7</td>\n",
       "      <td>Married-civ-spouse</td>\n",
       "      <td>Handlers-cleaners</td>\n",
       "      <td>Husband</td>\n",
       "      <td>Black</td>\n",
       "      <td>Male</td>\n",
       "      <td>0</td>\n",
       "      <td>0</td>\n",
       "      <td>40</td>\n",
       "      <td>United-States</td>\n",
       "      <td>&lt;=50K</td>\n",
       "    </tr>\n",
       "    <tr>\n",
       "      <th>4</th>\n",
       "      <td>28</td>\n",
       "      <td>Private</td>\n",
       "      <td>338409</td>\n",
       "      <td>Bachelors</td>\n",
       "      <td>13</td>\n",
       "      <td>Married-civ-spouse</td>\n",
       "      <td>Prof-specialty</td>\n",
       "      <td>Wife</td>\n",
       "      <td>Black</td>\n",
       "      <td>Female</td>\n",
       "      <td>0</td>\n",
       "      <td>0</td>\n",
       "      <td>40</td>\n",
       "      <td>Cuba</td>\n",
       "      <td>&lt;=50K</td>\n",
       "    </tr>\n",
       "  </tbody>\n",
       "</table>\n",
       "</div>"
      ],
      "text/plain": [
       "   age          workclass  final-weight   education  education-num  \\\n",
       "0   39          State-gov         77516   Bachelors             13   \n",
       "1   50   Self-emp-not-inc         83311   Bachelors             13   \n",
       "2   38            Private        215646     HS-grad              9   \n",
       "3   53            Private        234721        11th              7   \n",
       "4   28            Private        338409   Bachelors             13   \n",
       "\n",
       "        marital-status          occupation    relationship    race      sex  \\\n",
       "0        Never-married        Adm-clerical   Not-in-family   White     Male   \n",
       "1   Married-civ-spouse     Exec-managerial         Husband   White     Male   \n",
       "2             Divorced   Handlers-cleaners   Not-in-family   White     Male   \n",
       "3   Married-civ-spouse   Handlers-cleaners         Husband   Black     Male   \n",
       "4   Married-civ-spouse      Prof-specialty            Wife   Black   Female   \n",
       "\n",
       "   capital-gain  capital-loos  hour-per-week  native-country  income  \n",
       "0          2174             0             40   United-States   <=50K  \n",
       "1             0             0             13   United-States   <=50K  \n",
       "2             0             0             40   United-States   <=50K  \n",
       "3             0             0             40   United-States   <=50K  \n",
       "4             0             0             40            Cuba   <=50K  "
      ]
     },
     "metadata": {},
     "execution_count": 5
    }
   ],
   "metadata": {}
  },
  {
   "cell_type": "code",
   "execution_count": 7,
   "source": [
    "dataset.tail()"
   ],
   "outputs": [
    {
     "output_type": "execute_result",
     "data": {
      "text/html": [
       "<div>\n",
       "<style scoped>\n",
       "    .dataframe tbody tr th:only-of-type {\n",
       "        vertical-align: middle;\n",
       "    }\n",
       "\n",
       "    .dataframe tbody tr th {\n",
       "        vertical-align: top;\n",
       "    }\n",
       "\n",
       "    .dataframe thead th {\n",
       "        text-align: right;\n",
       "    }\n",
       "</style>\n",
       "<table border=\"1\" class=\"dataframe\">\n",
       "  <thead>\n",
       "    <tr style=\"text-align: right;\">\n",
       "      <th></th>\n",
       "      <th>age</th>\n",
       "      <th>workclass</th>\n",
       "      <th>final-weight</th>\n",
       "      <th>education</th>\n",
       "      <th>education-num</th>\n",
       "      <th>marital-status</th>\n",
       "      <th>occupation</th>\n",
       "      <th>relationship</th>\n",
       "      <th>race</th>\n",
       "      <th>sex</th>\n",
       "      <th>capital-gain</th>\n",
       "      <th>capital-loos</th>\n",
       "      <th>hour-per-week</th>\n",
       "      <th>native-country</th>\n",
       "      <th>income</th>\n",
       "    </tr>\n",
       "  </thead>\n",
       "  <tbody>\n",
       "    <tr>\n",
       "      <th>32556</th>\n",
       "      <td>27</td>\n",
       "      <td>Private</td>\n",
       "      <td>257302</td>\n",
       "      <td>Assoc-acdm</td>\n",
       "      <td>12</td>\n",
       "      <td>Married-civ-spouse</td>\n",
       "      <td>Tech-support</td>\n",
       "      <td>Wife</td>\n",
       "      <td>White</td>\n",
       "      <td>Female</td>\n",
       "      <td>0</td>\n",
       "      <td>0</td>\n",
       "      <td>38</td>\n",
       "      <td>United-States</td>\n",
       "      <td>&lt;=50K</td>\n",
       "    </tr>\n",
       "    <tr>\n",
       "      <th>32557</th>\n",
       "      <td>40</td>\n",
       "      <td>Private</td>\n",
       "      <td>154374</td>\n",
       "      <td>HS-grad</td>\n",
       "      <td>9</td>\n",
       "      <td>Married-civ-spouse</td>\n",
       "      <td>Machine-op-inspct</td>\n",
       "      <td>Husband</td>\n",
       "      <td>White</td>\n",
       "      <td>Male</td>\n",
       "      <td>0</td>\n",
       "      <td>0</td>\n",
       "      <td>40</td>\n",
       "      <td>United-States</td>\n",
       "      <td>&gt;50K</td>\n",
       "    </tr>\n",
       "    <tr>\n",
       "      <th>32558</th>\n",
       "      <td>58</td>\n",
       "      <td>Private</td>\n",
       "      <td>151910</td>\n",
       "      <td>HS-grad</td>\n",
       "      <td>9</td>\n",
       "      <td>Widowed</td>\n",
       "      <td>Adm-clerical</td>\n",
       "      <td>Unmarried</td>\n",
       "      <td>White</td>\n",
       "      <td>Female</td>\n",
       "      <td>0</td>\n",
       "      <td>0</td>\n",
       "      <td>40</td>\n",
       "      <td>United-States</td>\n",
       "      <td>&lt;=50K</td>\n",
       "    </tr>\n",
       "    <tr>\n",
       "      <th>32559</th>\n",
       "      <td>22</td>\n",
       "      <td>Private</td>\n",
       "      <td>201490</td>\n",
       "      <td>HS-grad</td>\n",
       "      <td>9</td>\n",
       "      <td>Never-married</td>\n",
       "      <td>Adm-clerical</td>\n",
       "      <td>Own-child</td>\n",
       "      <td>White</td>\n",
       "      <td>Male</td>\n",
       "      <td>0</td>\n",
       "      <td>0</td>\n",
       "      <td>20</td>\n",
       "      <td>United-States</td>\n",
       "      <td>&lt;=50K</td>\n",
       "    </tr>\n",
       "    <tr>\n",
       "      <th>32560</th>\n",
       "      <td>52</td>\n",
       "      <td>Self-emp-inc</td>\n",
       "      <td>287927</td>\n",
       "      <td>HS-grad</td>\n",
       "      <td>9</td>\n",
       "      <td>Married-civ-spouse</td>\n",
       "      <td>Exec-managerial</td>\n",
       "      <td>Wife</td>\n",
       "      <td>White</td>\n",
       "      <td>Female</td>\n",
       "      <td>15024</td>\n",
       "      <td>0</td>\n",
       "      <td>40</td>\n",
       "      <td>United-States</td>\n",
       "      <td>&gt;50K</td>\n",
       "    </tr>\n",
       "  </tbody>\n",
       "</table>\n",
       "</div>"
      ],
      "text/plain": [
       "       age      workclass  final-weight    education  education-num  \\\n",
       "32556   27        Private        257302   Assoc-acdm             12   \n",
       "32557   40        Private        154374      HS-grad              9   \n",
       "32558   58        Private        151910      HS-grad              9   \n",
       "32559   22        Private        201490      HS-grad              9   \n",
       "32560   52   Self-emp-inc        287927      HS-grad              9   \n",
       "\n",
       "            marital-status          occupation relationship    race      sex  \\\n",
       "32556   Married-civ-spouse        Tech-support         Wife   White   Female   \n",
       "32557   Married-civ-spouse   Machine-op-inspct      Husband   White     Male   \n",
       "32558              Widowed        Adm-clerical    Unmarried   White   Female   \n",
       "32559        Never-married        Adm-clerical    Own-child   White     Male   \n",
       "32560   Married-civ-spouse     Exec-managerial         Wife   White   Female   \n",
       "\n",
       "       capital-gain  capital-loos  hour-per-week  native-country  income  \n",
       "32556             0             0             38   United-States   <=50K  \n",
       "32557             0             0             40   United-States    >50K  \n",
       "32558             0             0             40   United-States   <=50K  \n",
       "32559             0             0             20   United-States   <=50K  \n",
       "32560         15024             0             40   United-States    >50K  "
      ]
     },
     "metadata": {},
     "execution_count": 7
    }
   ],
   "metadata": {}
  },
  {
   "cell_type": "code",
   "execution_count": 19,
   "source": [
    "##Amostragem aleatória simples"
   ],
   "outputs": [],
   "metadata": {}
  },
  {
   "cell_type": "code",
   "execution_count": 11,
   "source": [
    "df_amostra_aleatoria_simples = dataset.sample(n =100, random_state= 1)\n",
    "\n",
    "df_amostra_aleatoria_simples.shape"
   ],
   "outputs": [
    {
     "output_type": "execute_result",
     "data": {
      "text/plain": [
       "(100, 15)"
      ]
     },
     "metadata": {},
     "execution_count": 11
    }
   ],
   "metadata": {}
  },
  {
   "cell_type": "code",
   "execution_count": 12,
   "source": [
    "df_amostra_aleatoria_simples.head"
   ],
   "outputs": [
    {
     "output_type": "execute_result",
     "data": {
      "text/plain": [
       "<bound method NDFrame.head of        age          workclass  final-weight      education  education-num  \\\n",
       "9646    62   Self-emp-not-inc         26911        7th-8th              4   \n",
       "709     18            Private        208103           11th              7   \n",
       "7385    25            Private        102476      Bachelors             13   \n",
       "16671   33            Private        511517        HS-grad              9   \n",
       "21932   36            Private        292570           11th              7   \n",
       "...    ...                ...           ...            ...            ...   \n",
       "27578   64                  ?        200017        HS-grad              9   \n",
       "2544    19                  ?        192773   Some-college             10   \n",
       "2486    75                  ?        164849            9th              5   \n",
       "13143   28            Private        154863      Bachelors             13   \n",
       "551     36   Self-emp-not-inc         27053        HS-grad              9   \n",
       "\n",
       "            marital-status          occupation     relationship    race  \\\n",
       "9646               Widowed       Other-service    Not-in-family   White   \n",
       "709          Never-married       Other-service   Other-relative   White   \n",
       "7385         Never-married     Farming-fishing        Own-child   White   \n",
       "16671   Married-civ-spouse      Prof-specialty          Husband   White   \n",
       "21932        Never-married   Machine-op-inspct        Unmarried   White   \n",
       "...                    ...                 ...              ...     ...   \n",
       "27578              Widowed                   ?    Not-in-family   White   \n",
       "2544         Never-married                   ?        Own-child   White   \n",
       "2486    Married-civ-spouse                   ?          Husband   Black   \n",
       "13143        Never-married        Adm-clerical        Own-child   Black   \n",
       "551              Separated       Other-service        Unmarried   White   \n",
       "\n",
       "           sex  capital-gain  capital-loos  hour-per-week  native-country  \\\n",
       "9646    Female             0             0             66   United-States   \n",
       "709       Male             0             0             25   United-States   \n",
       "7385      Male         27828             0             50   United-States   \n",
       "16671     Male             0             0             40   United-States   \n",
       "21932   Female             0             0             40   United-States   \n",
       "...        ...           ...           ...            ...             ...   \n",
       "27578   Female             0             0             20   United-States   \n",
       "2544    Female             0             0             35   United-States   \n",
       "2486      Male          1409             0              5   United-States   \n",
       "13143     Male             0             0             35   United-States   \n",
       "551     Female             0             0             40   United-States   \n",
       "\n",
       "       income  \n",
       "9646    <=50K  \n",
       "709     <=50K  \n",
       "7385     >50K  \n",
       "16671   <=50K  \n",
       "21932   <=50K  \n",
       "...       ...  \n",
       "27578   <=50K  \n",
       "2544    <=50K  \n",
       "2486    <=50K  \n",
       "13143   <=50K  \n",
       "551     <=50K  \n",
       "\n",
       "[100 rows x 15 columns]>"
      ]
     },
     "metadata": {},
     "execution_count": 12
    }
   ],
   "metadata": {}
  },
  {
   "cell_type": "code",
   "execution_count": 14,
   "source": [
    "def amostragem_aleatoria_simples(dataset, amostras):\n",
    "    return dataset.sample(n = amostras, random_state=1)"
   ],
   "outputs": [],
   "metadata": {}
  },
  {
   "cell_type": "code",
   "execution_count": 15,
   "source": [
    "df_amostra_aleatoria_simples = amostragem_aleatoria_simples(dataset, 100)\n",
    "df_amostra_aleatoria_simples.shape"
   ],
   "outputs": [
    {
     "output_type": "execute_result",
     "data": {
      "text/plain": [
       "(100, 15)"
      ]
     },
     "metadata": {},
     "execution_count": 15
    }
   ],
   "metadata": {}
  },
  {
   "cell_type": "code",
   "execution_count": 16,
   "source": [
    "df_amostra_aleatoria_simples.head()"
   ],
   "outputs": [
    {
     "output_type": "execute_result",
     "data": {
      "text/html": [
       "<div>\n",
       "<style scoped>\n",
       "    .dataframe tbody tr th:only-of-type {\n",
       "        vertical-align: middle;\n",
       "    }\n",
       "\n",
       "    .dataframe tbody tr th {\n",
       "        vertical-align: top;\n",
       "    }\n",
       "\n",
       "    .dataframe thead th {\n",
       "        text-align: right;\n",
       "    }\n",
       "</style>\n",
       "<table border=\"1\" class=\"dataframe\">\n",
       "  <thead>\n",
       "    <tr style=\"text-align: right;\">\n",
       "      <th></th>\n",
       "      <th>age</th>\n",
       "      <th>workclass</th>\n",
       "      <th>final-weight</th>\n",
       "      <th>education</th>\n",
       "      <th>education-num</th>\n",
       "      <th>marital-status</th>\n",
       "      <th>occupation</th>\n",
       "      <th>relationship</th>\n",
       "      <th>race</th>\n",
       "      <th>sex</th>\n",
       "      <th>capital-gain</th>\n",
       "      <th>capital-loos</th>\n",
       "      <th>hour-per-week</th>\n",
       "      <th>native-country</th>\n",
       "      <th>income</th>\n",
       "    </tr>\n",
       "  </thead>\n",
       "  <tbody>\n",
       "    <tr>\n",
       "      <th>9646</th>\n",
       "      <td>62</td>\n",
       "      <td>Self-emp-not-inc</td>\n",
       "      <td>26911</td>\n",
       "      <td>7th-8th</td>\n",
       "      <td>4</td>\n",
       "      <td>Widowed</td>\n",
       "      <td>Other-service</td>\n",
       "      <td>Not-in-family</td>\n",
       "      <td>White</td>\n",
       "      <td>Female</td>\n",
       "      <td>0</td>\n",
       "      <td>0</td>\n",
       "      <td>66</td>\n",
       "      <td>United-States</td>\n",
       "      <td>&lt;=50K</td>\n",
       "    </tr>\n",
       "    <tr>\n",
       "      <th>709</th>\n",
       "      <td>18</td>\n",
       "      <td>Private</td>\n",
       "      <td>208103</td>\n",
       "      <td>11th</td>\n",
       "      <td>7</td>\n",
       "      <td>Never-married</td>\n",
       "      <td>Other-service</td>\n",
       "      <td>Other-relative</td>\n",
       "      <td>White</td>\n",
       "      <td>Male</td>\n",
       "      <td>0</td>\n",
       "      <td>0</td>\n",
       "      <td>25</td>\n",
       "      <td>United-States</td>\n",
       "      <td>&lt;=50K</td>\n",
       "    </tr>\n",
       "    <tr>\n",
       "      <th>7385</th>\n",
       "      <td>25</td>\n",
       "      <td>Private</td>\n",
       "      <td>102476</td>\n",
       "      <td>Bachelors</td>\n",
       "      <td>13</td>\n",
       "      <td>Never-married</td>\n",
       "      <td>Farming-fishing</td>\n",
       "      <td>Own-child</td>\n",
       "      <td>White</td>\n",
       "      <td>Male</td>\n",
       "      <td>27828</td>\n",
       "      <td>0</td>\n",
       "      <td>50</td>\n",
       "      <td>United-States</td>\n",
       "      <td>&gt;50K</td>\n",
       "    </tr>\n",
       "    <tr>\n",
       "      <th>16671</th>\n",
       "      <td>33</td>\n",
       "      <td>Private</td>\n",
       "      <td>511517</td>\n",
       "      <td>HS-grad</td>\n",
       "      <td>9</td>\n",
       "      <td>Married-civ-spouse</td>\n",
       "      <td>Prof-specialty</td>\n",
       "      <td>Husband</td>\n",
       "      <td>White</td>\n",
       "      <td>Male</td>\n",
       "      <td>0</td>\n",
       "      <td>0</td>\n",
       "      <td>40</td>\n",
       "      <td>United-States</td>\n",
       "      <td>&lt;=50K</td>\n",
       "    </tr>\n",
       "    <tr>\n",
       "      <th>21932</th>\n",
       "      <td>36</td>\n",
       "      <td>Private</td>\n",
       "      <td>292570</td>\n",
       "      <td>11th</td>\n",
       "      <td>7</td>\n",
       "      <td>Never-married</td>\n",
       "      <td>Machine-op-inspct</td>\n",
       "      <td>Unmarried</td>\n",
       "      <td>White</td>\n",
       "      <td>Female</td>\n",
       "      <td>0</td>\n",
       "      <td>0</td>\n",
       "      <td>40</td>\n",
       "      <td>United-States</td>\n",
       "      <td>&lt;=50K</td>\n",
       "    </tr>\n",
       "  </tbody>\n",
       "</table>\n",
       "</div>"
      ],
      "text/plain": [
       "       age          workclass  final-weight   education  education-num  \\\n",
       "9646    62   Self-emp-not-inc         26911     7th-8th              4   \n",
       "709     18            Private        208103        11th              7   \n",
       "7385    25            Private        102476   Bachelors             13   \n",
       "16671   33            Private        511517     HS-grad              9   \n",
       "21932   36            Private        292570        11th              7   \n",
       "\n",
       "            marital-status          occupation     relationship    race  \\\n",
       "9646               Widowed       Other-service    Not-in-family   White   \n",
       "709          Never-married       Other-service   Other-relative   White   \n",
       "7385         Never-married     Farming-fishing        Own-child   White   \n",
       "16671   Married-civ-spouse      Prof-specialty          Husband   White   \n",
       "21932        Never-married   Machine-op-inspct        Unmarried   White   \n",
       "\n",
       "           sex  capital-gain  capital-loos  hour-per-week  native-country  \\\n",
       "9646    Female             0             0             66   United-States   \n",
       "709       Male             0             0             25   United-States   \n",
       "7385      Male         27828             0             50   United-States   \n",
       "16671     Male             0             0             40   United-States   \n",
       "21932   Female             0             0             40   United-States   \n",
       "\n",
       "       income  \n",
       "9646    <=50K  \n",
       "709     <=50K  \n",
       "7385     >50K  \n",
       "16671   <=50K  \n",
       "21932   <=50K  "
      ]
     },
     "metadata": {},
     "execution_count": 16
    }
   ],
   "metadata": {}
  },
  {
   "cell_type": "code",
   "execution_count": 24,
   "source": [
    "dataset.shape"
   ],
   "outputs": [
    {
     "output_type": "execute_result",
     "data": {
      "text/plain": [
       "(32561, 15)"
      ]
     },
     "metadata": {},
     "execution_count": 24
    }
   ],
   "metadata": {}
  },
  {
   "cell_type": "code",
   "execution_count": 26,
   "source": [
    "np.arange(68,len(dataset), 325)"
   ],
   "outputs": [
    {
     "output_type": "execute_result",
     "data": {
      "text/plain": [
       "array([   68,   393,   718,  1043,  1368,  1693,  2018,  2343,  2668,\n",
       "        2993,  3318,  3643,  3968,  4293,  4618,  4943,  5268,  5593,\n",
       "        5918,  6243,  6568,  6893,  7218,  7543,  7868,  8193,  8518,\n",
       "        8843,  9168,  9493,  9818, 10143, 10468, 10793, 11118, 11443,\n",
       "       11768, 12093, 12418, 12743, 13068, 13393, 13718, 14043, 14368,\n",
       "       14693, 15018, 15343, 15668, 15993, 16318, 16643, 16968, 17293,\n",
       "       17618, 17943, 18268, 18593, 18918, 19243, 19568, 19893, 20218,\n",
       "       20543, 20868, 21193, 21518, 21843, 22168, 22493, 22818, 23143,\n",
       "       23468, 23793, 24118, 24443, 24768, 25093, 25418, 25743, 26068,\n",
       "       26393, 26718, 27043, 27368, 27693, 28018, 28343, 28668, 28993,\n",
       "       29318, 29643, 29968, 30293, 30618, 30943, 31268, 31593, 31918,\n",
       "       32243])"
      ]
     },
     "metadata": {},
     "execution_count": 26
    }
   ],
   "metadata": {}
  },
  {
   "cell_type": "code",
   "execution_count": 27,
   "source": [
    "def amostragem_aleatoria_sistematica(dataset, amostras):\n",
    "    intervalo = len(dataset) // amostras\n",
    "    random.seed(5)\n",
    "    inicio = random.randint(0, intervalo)\n",
    "    indices = np.arange(inicio, len(dataset), intervalo)\n",
    "    amostra_sistematica = dataset.iloc[indices]\n",
    "    return amostra_sistematica"
   ],
   "outputs": [],
   "metadata": {}
  },
  {
   "cell_type": "code",
   "execution_count": 28,
   "source": [
    "df_amostra_aleatoria_sistematica = amostragem_aleatoria_sistematica(dataset, 100)\n",
    "df_amostra_aleatoria_sistematica.shape"
   ],
   "outputs": [
    {
     "output_type": "execute_result",
     "data": {
      "text/plain": [
       "(100, 15)"
      ]
     },
     "metadata": {},
     "execution_count": 28
    }
   ],
   "metadata": {}
  },
  {
   "cell_type": "code",
   "execution_count": 29,
   "source": [
    "df_amostra_aleatoria_sistematica.head"
   ],
   "outputs": [
    {
     "output_type": "execute_result",
     "data": {
      "text/plain": [
       "<bound method NDFrame.head of        age   workclass  final-weight      education  education-num  \\\n",
       "318     29     Private        423158   Some-college             10   \n",
       "643     36     Private        188563   Some-college             10   \n",
       "968     48     Private        164966      Bachelors             13   \n",
       "1293    46     Private        279661        Masters             14   \n",
       "1618    32     Private        375833           11th              7   \n",
       "...    ...         ...           ...            ...            ...   \n",
       "31193   19           ?        230874   Some-college             10   \n",
       "31518   38     Private        337130        1st-4th              2   \n",
       "31843   67   Local-gov        204123      Bachelors             13   \n",
       "32168   20     Private        200153        HS-grad              9   \n",
       "32493   24     Private        381895           11th              7   \n",
       "\n",
       "               marital-status          occupation     relationship  \\\n",
       "318             Never-married        Tech-support    Not-in-family   \n",
       "643        Married-civ-spouse               Sales          Husband   \n",
       "968        Married-civ-spouse     Exec-managerial          Husband   \n",
       "1293       Married-civ-spouse      Prof-specialty          Husband   \n",
       "1618            Never-married        Craft-repair   Other-relative   \n",
       "...                       ...                 ...              ...   \n",
       "31193           Never-married                   ?        Own-child   \n",
       "31518   Married-spouse-absent        Craft-repair    Not-in-family   \n",
       "31843      Married-civ-spouse      Prof-specialty          Husband   \n",
       "32168           Never-married       Other-service        Own-child   \n",
       "32493                Divorced   Machine-op-inspct        Unmarried   \n",
       "\n",
       "                      race      sex  capital-gain  capital-loos  \\\n",
       "318                  White   Female             0             0   \n",
       "643                  White     Male          5178             0   \n",
       "968     Asian-Pac-Islander     Male             0             0   \n",
       "1293                 Black     Male             0             0   \n",
       "1618                 White     Male             0             0   \n",
       "...                    ...      ...           ...           ...   \n",
       "31193                White   Female             0             0   \n",
       "31518                White     Male             0             0   \n",
       "31843                White     Male             0             0   \n",
       "32168                White   Female             0             0   \n",
       "32493                White   Female             0             0   \n",
       "\n",
       "       hour-per-week  native-country  income  \n",
       "318               40   United-States   <=50K  \n",
       "643               50   United-States    >50K  \n",
       "968               40           India    >50K  \n",
       "1293              35   United-States   <=50K  \n",
       "1618              40   United-States   <=50K  \n",
       "...              ...             ...     ...  \n",
       "31193             40   United-States   <=50K  \n",
       "31518             40          Mexico   <=50K  \n",
       "31843             10   United-States   <=50K  \n",
       "32168             38   United-States   <=50K  \n",
       "32493             40   United-States   <=50K  \n",
       "\n",
       "[100 rows x 15 columns]>"
      ]
     },
     "metadata": {},
     "execution_count": 29
    }
   ],
   "metadata": {}
  },
  {
   "cell_type": "code",
   "execution_count": null,
   "source": [],
   "outputs": [],
   "metadata": {}
  }
 ],
 "metadata": {
  "orig_nbformat": 4,
  "language_info": {
   "name": "python",
   "version": "3.9.7",
   "mimetype": "text/x-python",
   "codemirror_mode": {
    "name": "ipython",
    "version": 3
   },
   "pygments_lexer": "ipython3",
   "nbconvert_exporter": "python",
   "file_extension": ".py"
  },
  "kernelspec": {
   "name": "python3",
   "display_name": "Python 3.9.6 64-bit"
  },
  "interpreter": {
   "hash": "a59ddac5050bfaa2ef2aa64a2b36b57597d127f16cc2e88acd44636f7ec30777"
  }
 },
 "nbformat": 4,
 "nbformat_minor": 2
}